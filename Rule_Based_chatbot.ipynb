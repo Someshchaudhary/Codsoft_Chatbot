{
 "cells": [
  {
   "cell_type": "code",
   "execution_count": 13,
   "id": "76d23c28-b373-4e29-8f61-63cf851a2625",
   "metadata": {},
   "outputs": [],
   "source": [
    "from nltk.chat.util import Chat, reflections\n"
   ]
  },
  {
   "cell_type": "code",
   "execution_count": 15,
   "id": "34f38f3d-4300-4de2-a629-0f3d6bff6c84",
   "metadata": {},
   "outputs": [],
   "source": [
    "pairs = [\n",
    "    # General Greetings\n",
    "    [\n",
    "        r\"(hi|hey|hello|hola|holla)(.*)\",\n",
    "        [\"Hello! How can I assist you today?\", \"Hey there! What's on your mind?\", \"Hi! How's your day going?\"]\n",
    "    ],\n",
    "\n",
    "    # Robot-specific questions\n",
    "    [\n",
    "        r\"(.*)robot(.*)\",\n",
    "        [\"Hi Human, I'm your friendly chatbot! How can I help?\", \"Yes, I'm a robot. Let's chat!\"]\n",
    "    ],\n",
    "    \n",
    "    # Questions about creation\n",
    "    [\n",
    "        r\"(.*)created(.*)\",\n",
    "        [\"Somesh Chaudhary created me using Python's NLTK library.\", \"That's a secret, but let's just say Python was involved!\", \"I was created to assist you!\"]\n",
    "    ],\n",
    "\n",
    "    # Asking about the chatbot's name\n",
    "    [\n",
    "        r\"(.*)your name(.*)\",\n",
    "        [\"I'm AI Robot, your personal chatbot!\", \"You can call me Robot, or just AI for short.\"]\n",
    "    ],\n",
    "\n",
    "    # Health-related queries\n",
    "    [\n",
    "        r\"how (.*) health(.*)\",\n",
    "        [\"Health is vital! I'm just a program, so I don't worry about that.\", \"I don't have health, but I hope you're taking care of yours!\"]\n",
    "    ],\n",
    "\n",
    "    # Weather-related queries\n",
    "    [\n",
    "        r\"(.*)raining in (.*)\",\n",
    "        [\"No rain recently in %2.\", \"There's a 50% chance of rain in %2.\", \"It might rain in %2; carry an umbrella just in case!\"]\n",
    "    ],\n",
    "\n",
    "    # Sports-related queries\n",
    "    [\n",
    "        r\"(.*)(sports|game|sport)(.*)\",\n",
    "        [\"I love cricket! What's your favorite sport?\", \"Sports are a great way to stay active! I enjoy talking about cricket.\"]\n",
    "    ],\n",
    "    [\n",
    "        r\"who (.*) (cricketer|batsman)?\",\n",
    "        [\"Imran Khan is a legendary cricketer!\", \"There are many greats, but Imran Khan is iconic.\"]\n",
    "    ],\n",
    "\n",
    "    # Apologies\n",
    "    [\n",
    "        r\"sorry (.*)\",\n",
    "        [\"It's alright! Let's move on.\", \"No worries! What else can I do for you?\"]\n",
    "    ],\n",
    "\n",
    "    # Feeling good\n",
    "    [\n",
    "        r\"i'm (.*) (good|well|okay|ok)\",\n",
    "        [\"Nice to hear that!\", \"Great to know! Let's keep the positivity going.\"]\n",
    "    ],\n",
    "\n",
    "    # Queries about location\n",
    "    [\n",
    "        r\"(.*)(location|city)(.*)\",\n",
    "        [\"I'm based in the digital world, but my creator is from Lahore, Pakistan.\"]\n",
    "    ],\n",
    "\n",
    "    # Random questions\n",
    "    [\n",
    "        r\"what (.*) want ?\",\n",
    "        [\"I want to help you!\", \"My purpose is to assist you in any way I can.\"]\n",
    "    ],\n",
    "\n",
    "    # Queries about being alive\n",
    "    [\n",
    "        r\"(.*)alive(.*)\",\n",
    "        [\"I'm just a program, but I try to keep conversations lively!\", \"Not alive in the biological sense, but here to help you!\"]\n",
    "    ],\n",
    "\n",
    "    # Developer information\n",
    "    [\n",
    "        r\"(.*)developed(.*)\",\n",
    "        [\"Somesh Chaudhary created me using Python.\", \"I'm the result of Somesh Chaudhary's programming expertise.\"]\n",
    "    ],\n",
    "\n",
    "    # General gratitude\n",
    "    [\n",
    "        r\"thank you(.*)\",\n",
    "        [\"You're welcome!\", \"Happy to help! Let me know if there's anything else.\"]\n",
    "    ],\n",
    "\n",
    "    # Goodbye\n",
    "    [\n",
    "        r\"quit\",\n",
    "        [\"Goodbye for now! Hope to chat again soon!\", \"Take care! See you next time!\"]\n",
    "    ],\n",
    "\n",
    "    # Catch-all\n",
    "    [\n",
    "        r\"(.*)\",\n",
    "        [\"That's interesting. Tell me more!\", \"I see. Can you elaborate on that?\", \"Hmm, let me think about that.\"]\n",
    "    ]\n",
    "]\n"
   ]
  },
  {
   "cell_type": "code",
   "execution_count": 23,
   "id": "490e1c98-2509-46e1-bac2-639202125046",
   "metadata": {},
   "outputs": [
    {
     "name": "stdout",
     "output_type": "stream",
     "text": [
      "{'i am': 'you are', 'i was': 'you were', 'i': 'you', \"i'm\": 'you are', \"i'd\": 'you would', \"i've\": 'you have', \"i'll\": 'you will', 'my': 'your', 'you are': 'I am', 'you were': 'I was', \"you've\": 'I have', \"you'll\": 'I will', 'your': 'my', 'yours': 'mine', 'you': 'me', 'me': 'you'}\n"
     ]
    }
   ],
   "source": [
    "print(reflections)"
   ]
  },
  {
   "cell_type": "code",
   "execution_count": 25,
   "id": "01dae5a9-402c-4ae0-a132-9fe98fbc625d",
   "metadata": {},
   "outputs": [],
   "source": [
    "my_dummy_reflections= {\n",
    "    \"go\"     : \"gone\",\n",
    "    \"hello\"    : \"hey there\"\n",
    "}"
   ]
  },
  {
   "cell_type": "code",
   "execution_count": 27,
   "id": "58e36fc7-19dd-45a3-bce1-cf61cf6015f9",
   "metadata": {},
   "outputs": [],
   "source": [
    "chat = Chat(pairs, reflections)"
   ]
  },
  {
   "cell_type": "code",
   "execution_count": 29,
   "id": "58aef036-2351-4c38-ac5b-45f8b0161b03",
   "metadata": {},
   "outputs": [],
   "source": [
    "chat = Chat(pairs, reflections)"
   ]
  },
  {
   "cell_type": "code",
   "execution_count": null,
   "id": "a28fcc9a-8cce-45a8-9c9c-d31318d1a4a9",
   "metadata": {},
   "outputs": [],
   "source": []
  },
  {
   "cell_type": "code",
   "execution_count": null,
   "id": "c86e3a2d-18c4-49d9-a651-d432de2925cd",
   "metadata": {},
   "outputs": [
    {
     "name": "stdin",
     "output_type": "stream",
     "text": [
      "> who created you \n"
     ]
    },
    {
     "name": "stdout",
     "output_type": "stream",
     "text": [
      "Somesh Chaudhary created me using Python's NLTK library.\n"
     ]
    },
    {
     "name": "stdin",
     "output_type": "stream",
     "text": [
      "> which sports do you like ?\n"
     ]
    },
    {
     "name": "stdout",
     "output_type": "stream",
     "text": [
      "Sports are a great way to stay active! I enjoy talking about cricket.\n"
     ]
    }
   ],
   "source": [
    "chat.converse()"
   ]
  },
  {
   "cell_type": "code",
   "execution_count": null,
   "id": "84c37273-c27a-4a01-b77b-e50940d8e38b",
   "metadata": {},
   "outputs": [],
   "source": []
  }
 ],
 "metadata": {
  "kernelspec": {
   "display_name": "Python 3 (ipykernel)",
   "language": "python",
   "name": "python3"
  },
  "language_info": {
   "codemirror_mode": {
    "name": "ipython",
    "version": 3
   },
   "file_extension": ".py",
   "mimetype": "text/x-python",
   "name": "python",
   "nbconvert_exporter": "python",
   "pygments_lexer": "ipython3",
   "version": "3.12.4"
  }
 },
 "nbformat": 4,
 "nbformat_minor": 5
}
